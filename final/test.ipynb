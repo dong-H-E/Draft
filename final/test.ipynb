{
 "cells": [
  {
   "cell_type": "code",
   "execution_count": 1,
   "metadata": {},
   "outputs": [
    {
     "name": "stdout",
     "output_type": "stream",
     "text": [
      "<generator object _BaseKFold.split at 0x000002064D9C31C8>\n"
     ]
    }
   ],
   "source": [
    "from sklearn.model_selection import StratifiedKFold\n",
    "from sklearn.model_selection import KFold\n",
    "import numpy as np\n",
    "\n",
    "X=np.array([\n",
    "    [1,2,3,4],\n",
    "    [11,12,13,14],\n",
    "    [21,22,23,24],\n",
    "    [31,32,33,34],\n",
    "    [41,42,43,44],\n",
    "    [51,52,53,54],\n",
    "    [61,62,63,64],\n",
    "    [71,72,73,74]\n",
    "])\n",
    " \n",
    "y=np.array([1,1,0,0,1,1,0,0])\n",
    "\n",
    "kf= KFold(n_splits=4)\n",
    "print(kf.split(X))\n"
   ]
  },
  {
   "cell_type": "code",
   "execution_count": 7,
   "metadata": {},
   "outputs": [
    {
     "data": {
      "text/plain": [
       "array([ 2, 12, 22, 32, 42, 52, 62, 72])"
      ]
     },
     "execution_count": 7,
     "metadata": {},
     "output_type": "execute_result"
    }
   ],
   "source": [
    "X=np.array([\n",
    "    [1,2,3,4],\n",
    "    [11,12,13,14],\n",
    "    [21,22,23,24],\n",
    "    [31,32,33,34],\n",
    "    [41,42,43,44],\n",
    "    [51,52,53,54],\n",
    "    [61,62,63,64],\n",
    "    [71,72,73,74]\n",
    "])\n",
    "X[:,1]"
   ]
  },
  {
   "cell_type": "code",
   "execution_count": 12,
   "metadata": {},
   "outputs": [
    {
     "name": "stdout",
     "output_type": "stream",
     "text": [
      "[[0.56651809 0.43348191]\n",
      " [0.15598162 0.84401838]\n",
      " [0.86852502 0.13147498]]\n",
      "[0.43348191 0.84401838 0.13147498]\n",
      "[0.43348191 0.84401838 0.13147498]\n"
     ]
    },
    {
     "name": "stderr",
     "output_type": "stream",
     "text": [
      "c:\\ProgramData\\Anaconda3\\lib\\site-packages\\sklearn\\linear_model\\logistic.py:432: FutureWarning: Default solver will be changed to 'lbfgs' in 0.22. Specify a solver to silence this warning.\n",
      "  FutureWarning)\n"
     ]
    }
   ],
   "source": [
    "\n",
    "# conding :utf-8  \n",
    "from sklearn.linear_model import LogisticRegression  \n",
    "import numpy as np  \n",
    "x_train = np.array([[1,2,3],  \n",
    "                    [1,3,4],  \n",
    "                    [2,1,2],  \n",
    "                    [4,5,6],  \n",
    "                    [3,5,3],  \n",
    "                    [1,7,2]])  \n",
    "  \n",
    "y_train = np.array([3, 3, 3, 2, 2, 2])  \n",
    "  \n",
    "x_test = np.array([[2,2,2],  \n",
    "                   [3,2,6],  \n",
    "                   [1,7,4]])  \n",
    "  \n",
    "clf = LogisticRegression()  \n",
    "clf.fit(x_train, y_train)  \n",
    "  \n",
    "# 返回预测标签  \n",
    "# print(clf.predict(x_test))  \n",
    "  \n",
    "# 返回预测属于某标签的概率\n",
    "print(clf.predict_proba(x_test))\n",
    "out = clf.predict_proba(x_test)[:, 1]\n",
    "print(out)\n",
    "print(out.ravel())\n",
    "\n"
   ]
  },
  {
   "cell_type": "code",
   "execution_count": 2,
   "metadata": {},
   "outputs": [
    {
     "name": "stdout",
     "output_type": "stream",
     "text": [
      "New\n"
     ]
    }
   ],
   "source": [
    "print(\"New\")"
   ]
  }
 ],
 "metadata": {
  "kernelspec": {
   "display_name": "Python 3.7.4 ('base')",
   "language": "python",
   "name": "python3"
  },
  "language_info": {
   "codemirror_mode": {
    "name": "ipython",
    "version": 3
   },
   "file_extension": ".py",
   "mimetype": "text/x-python",
   "name": "python",
   "nbconvert_exporter": "python",
   "pygments_lexer": "ipython3",
   "version": "3.7.4"
  },
  "orig_nbformat": 4,
  "vscode": {
   "interpreter": {
    "hash": "ad2bdc8ecc057115af97d19610ffacc2b4e99fae6737bb82f5d7fb13d2f2c186"
   }
  }
 },
 "nbformat": 4,
 "nbformat_minor": 2
}
